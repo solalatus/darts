{
 "cells": [
  {
   "cell_type": "code",
   "execution_count": 1,
   "id": "e88daa70",
   "metadata": {
    "tags": []
   },
   "outputs": [
    {
     "name": "stderr",
     "output_type": "stream",
     "text": [
      "/Users/dennisbader/miniconda3/envs/darts39/lib/python3.9/site-packages/tqdm/auto.py:21: TqdmWarning: IProgress not found. Please update jupyter and ipywidgets. See https://ipywidgets.readthedocs.io/en/stable/user_install.html\n",
      "  from .autonotebook import tqdm as notebook_tqdm\n"
     ]
    }
   ],
   "source": [
    "import pandas as pd\n",
    "import darts\n",
    "from darts.datasets import AirPassengersDataset\n",
    "from darts.models import NBEATSModel\n",
    "from torch.optim import Adam\n",
    "import matplotlib.pyplot as plt"
   ]
  },
  {
   "cell_type": "code",
   "execution_count": 2,
   "id": "6eee143c",
   "metadata": {
    "tags": []
   },
   "outputs": [],
   "source": [
    "series = AirPassengersDataset().load()"
   ]
  },
  {
   "cell_type": "code",
   "execution_count": 3,
   "id": "7b85dd43-b048-4ef4-bd48-16f1556597aa",
   "metadata": {
    "tags": []
   },
   "outputs": [
    {
     "data": {
      "text/plain": [
       "<MonthBegin>"
      ]
     },
     "execution_count": 3,
     "metadata": {},
     "output_type": "execute_result"
    }
   ],
   "source": [
    "series.freq"
   ]
  },
  {
   "cell_type": "code",
   "execution_count": 4,
   "id": "3069e6b8",
   "metadata": {
    "tags": []
   },
   "outputs": [],
   "source": [
    "train, val = series.split_after(pd.Timestamp(\"19591231\"))"
   ]
  },
  {
   "cell_type": "code",
   "execution_count": 5,
   "id": "f024c47f",
   "metadata": {
    "tags": []
   },
   "outputs": [],
   "source": [
    "model = NBEATSModel(input_chunk_length=7, output_chunk_length=1, random_state=42)"
   ]
  },
  {
   "cell_type": "code",
   "execution_count": 6,
   "id": "798a5383-1a04-47c3-aff1-18883957ac63",
   "metadata": {
    "tags": []
   },
   "outputs": [
    {
     "name": "stderr",
     "output_type": "stream",
     "text": [
      "GPU available: False, used: False\n",
      "TPU available: False, using: 0 TPU cores\n",
      "IPU available: False, using: 0 IPUs\n",
      "HPU available: False, using: 0 HPUs\n",
      "Finding best initial lr:  79%|███████▉  | 79/100 [00:06<00:01, 12.64it/s]\n",
      "LR finder stopped early after 79 steps due to diverging loss.\n",
      "Restoring states from the checkpoint path at /Users/dennisbader/projects/darts/examples/.lr_find_b2cd6045-a983-4a95-9550-1f032b56d348.ckpt\n",
      "Restored all states from the checkpoint at /Users/dennisbader/projects/darts/examples/.lr_find_b2cd6045-a983-4a95-9550-1f032b56d348.ckpt\n"
     ]
    }
   ],
   "source": [
    "lr_finder = model.lr_find(series=train, val_series=val, verbose=True)"
   ]
  },
  {
   "cell_type": "code",
   "execution_count": 7,
   "id": "30f533d6-00dc-4b8b-9c34-13b0b371fbbc",
   "metadata": {
    "tags": []
   },
   "outputs": [
    {
     "data": {
      "image/png": "[encoded data removed]",
      "text/plain": [
       "<Figure size 640x480 with 1 Axes>"
      ]
     },
     "metadata": {},
     "output_type": "display_data"
    }
   ],
   "source": [
    "lr_finder.plot(suggest=True, show=True)\n",
    "plt.close()"
   ]
  },
  {
   "cell_type": "code",
   "execution_count": 10,
   "id": "a373c777-354e-4877-bd24-c336b3ee934b",
   "metadata": {
    "tags": []
   },
   "outputs": [
    {
     "name": "stderr",
     "output_type": "stream",
     "text": [
      "ValueError: The model must be fit before calling predict(). For global models, if predict() is called without specifying a series, the model must have been fit on a single training series.\n"
     ]
    },
    {
     "ename": "ValueError",
     "evalue": "The model must be fit before calling predict(). For global models, if predict() is called without specifying a series, the model must have been fit on a single training series.",
     "output_type": "error",
     "traceback": [
      "\u001b[0;31m---------------------------------------------------------------------------\u001b[0m",
      "\u001b[0;31mValueError\u001b[0m                                Traceback (most recent call last)",
      "Cell \u001b[0;32mIn[10], line 1\u001b[0m\n\u001b[0;32m----> 1\u001b[0m \u001b[43mmodel\u001b[49m\u001b[38;5;241;43m.\u001b[39;49m\u001b[43mpredict\u001b[49m\u001b[43m(\u001b[49m\u001b[38;5;241;43m10\u001b[39;49m\u001b[43m,\u001b[49m\u001b[43m \u001b[49m\u001b[43mseries\u001b[49m\u001b[38;5;241;43m=\u001b[39;49m\u001b[43mtrain\u001b[49m\u001b[43m)\u001b[49m\n",
      "File \u001b[0;32m~/projects/darts/darts/utils/torch.py:112\u001b[0m, in \u001b[0;36mrandom_method.<locals>.decorator\u001b[0;34m(self, *args, **kwargs)\u001b[0m\n\u001b[1;32m    110\u001b[0m \u001b[38;5;28;01mwith\u001b[39;00m fork_rng():\n\u001b[1;32m    111\u001b[0m     manual_seed(\u001b[38;5;28mself\u001b[39m\u001b[38;5;241m.\u001b[39m_random_instance\u001b[38;5;241m.\u001b[39mrandint(\u001b[38;5;241m0\u001b[39m, high\u001b[38;5;241m=\u001b[39mMAX_TORCH_SEED_VALUE))\n\u001b[0;32m--> 112\u001b[0m     \u001b[38;5;28;01mreturn\u001b[39;00m \u001b[43mdecorated\u001b[49m\u001b[43m(\u001b[49m\u001b[38;5;28;43mself\u001b[39;49m\u001b[43m,\u001b[49m\u001b[43m \u001b[49m\u001b[38;5;241;43m*\u001b[39;49m\u001b[43margs\u001b[49m\u001b[43m,\u001b[49m\u001b[43m \u001b[49m\u001b[38;5;241;43m*\u001b[39;49m\u001b[38;5;241;43m*\u001b[39;49m\u001b[43mkwargs\u001b[49m\u001b[43m)\u001b[49m\n",
      "File \u001b[0;32m~/projects/darts/darts/models/forecasting/torch_forecasting_model.py:1278\u001b[0m, in \u001b[0;36mTorchForecastingModel.predict\u001b[0;34m(self, n, series, past_covariates, future_covariates, trainer, batch_size, verbose, n_jobs, roll_size, num_samples, num_loader_workers, mc_dropout)\u001b[0m\n\u001b[1;32m   1275\u001b[0m \u001b[38;5;28;01mif\u001b[39;00m future_covariates \u001b[38;5;129;01mis\u001b[39;00m \u001b[38;5;28;01mNone\u001b[39;00m \u001b[38;5;129;01mand\u001b[39;00m \u001b[38;5;28mself\u001b[39m\u001b[38;5;241m.\u001b[39mfuture_covariate_series \u001b[38;5;129;01mis\u001b[39;00m \u001b[38;5;129;01mnot\u001b[39;00m \u001b[38;5;28;01mNone\u001b[39;00m:\n\u001b[1;32m   1276\u001b[0m     future_covariates \u001b[38;5;241m=\u001b[39m series2seq(\u001b[38;5;28mself\u001b[39m\u001b[38;5;241m.\u001b[39mfuture_covariate_series)\n\u001b[0;32m-> 1278\u001b[0m \u001b[38;5;28;43msuper\u001b[39;49m\u001b[43m(\u001b[49m\u001b[43m)\u001b[49m\u001b[38;5;241;43m.\u001b[39;49m\u001b[43mpredict\u001b[49m\u001b[43m(\u001b[49m\u001b[43mn\u001b[49m\u001b[43m,\u001b[49m\u001b[43m \u001b[49m\u001b[43mseries\u001b[49m\u001b[43m,\u001b[49m\u001b[43m \u001b[49m\u001b[43mpast_covariates\u001b[49m\u001b[43m,\u001b[49m\u001b[43m \u001b[49m\u001b[43mfuture_covariates\u001b[49m\u001b[43m)\u001b[49m\n\u001b[1;32m   1280\u001b[0m dataset \u001b[38;5;241m=\u001b[39m \u001b[38;5;28mself\u001b[39m\u001b[38;5;241m.\u001b[39m_build_inference_dataset(\n\u001b[1;32m   1281\u001b[0m     target\u001b[38;5;241m=\u001b[39mseries,\n\u001b[1;32m   1282\u001b[0m     n\u001b[38;5;241m=\u001b[39mn,\n\u001b[1;32m   1283\u001b[0m     past_covariates\u001b[38;5;241m=\u001b[39mpast_covariates,\n\u001b[1;32m   1284\u001b[0m     future_covariates\u001b[38;5;241m=\u001b[39mfuture_covariates,\n\u001b[1;32m   1285\u001b[0m )\n\u001b[1;32m   1287\u001b[0m predictions \u001b[38;5;241m=\u001b[39m \u001b[38;5;28mself\u001b[39m\u001b[38;5;241m.\u001b[39mpredict_from_dataset(\n\u001b[1;32m   1288\u001b[0m     n,\n\u001b[1;32m   1289\u001b[0m     dataset,\n\u001b[0;32m   (...)\u001b[0m\n\u001b[1;32m   1297\u001b[0m     mc_dropout\u001b[38;5;241m=\u001b[39mmc_dropout,\n\u001b[1;32m   1298\u001b[0m )\n",
      "File \u001b[0;32m~/projects/darts/darts/models/forecasting/forecasting_model.py:1857\u001b[0m, in \u001b[0;36mGlobalForecastingModel.predict\u001b[0;34m(self, n, series, past_covariates, future_covariates, num_samples, verbose)\u001b[0m\n\u001b[1;32m   1805\u001b[0m \u001b[38;5;129m@abstractmethod\u001b[39m\n\u001b[1;32m   1806\u001b[0m \u001b[38;5;28;01mdef\u001b[39;00m \u001b[38;5;21mpredict\u001b[39m(\n\u001b[1;32m   1807\u001b[0m     \u001b[38;5;28mself\u001b[39m,\n\u001b[0;32m   (...)\u001b[0m\n\u001b[1;32m   1813\u001b[0m     verbose: \u001b[38;5;28mbool\u001b[39m \u001b[38;5;241m=\u001b[39m \u001b[38;5;28;01mFalse\u001b[39;00m,\n\u001b[1;32m   1814\u001b[0m ) \u001b[38;5;241m-\u001b[39m\u001b[38;5;241m>\u001b[39m Union[TimeSeries, Sequence[TimeSeries]]:\n\u001b[1;32m   1815\u001b[0m \u001b[38;5;250m    \u001b[39m\u001b[38;5;124;03m\"\"\"Forecasts values for `n` time steps after the end of the series.\u001b[39;00m\n\u001b[1;32m   1816\u001b[0m \n\u001b[1;32m   1817\u001b[0m \u001b[38;5;124;03m    If :func:`fit()` has been called with only one ``TimeSeries`` as argument, then the `series` argument of\u001b[39;00m\n\u001b[0;32m   (...)\u001b[0m\n\u001b[1;32m   1855\u001b[0m \u001b[38;5;124;03m        a sequence where each element contains the corresponding `n` points forecasts.\u001b[39;00m\n\u001b[1;32m   1856\u001b[0m \u001b[38;5;124;03m    \"\"\"\u001b[39;00m\n\u001b[0;32m-> 1857\u001b[0m     \u001b[38;5;28;43msuper\u001b[39;49m\u001b[43m(\u001b[49m\u001b[43m)\u001b[49m\u001b[38;5;241;43m.\u001b[39;49m\u001b[43mpredict\u001b[49m\u001b[43m(\u001b[49m\u001b[43mn\u001b[49m\u001b[43m,\u001b[49m\u001b[43m \u001b[49m\u001b[43mnum_samples\u001b[49m\u001b[43m)\u001b[49m\n\u001b[1;32m   1858\u001b[0m     \u001b[38;5;28;01mif\u001b[39;00m \u001b[38;5;28mself\u001b[39m\u001b[38;5;241m.\u001b[39m_expect_past_covariates \u001b[38;5;129;01mand\u001b[39;00m past_covariates \u001b[38;5;129;01mis\u001b[39;00m \u001b[38;5;28;01mNone\u001b[39;00m:\n\u001b[1;32m   1859\u001b[0m         raise_log(\n\u001b[1;32m   1860\u001b[0m             \u001b[38;5;167;01mValueError\u001b[39;00m(\n\u001b[1;32m   1861\u001b[0m                 \u001b[38;5;124m\"\u001b[39m\u001b[38;5;124mThe model has been trained with past covariates. Some matching past_covariates \u001b[39m\u001b[38;5;124m\"\u001b[39m\n\u001b[1;32m   1862\u001b[0m                 \u001b[38;5;124m\"\u001b[39m\u001b[38;5;124mhave to be provided to `predict()`.\u001b[39m\u001b[38;5;124m\"\u001b[39m\n\u001b[1;32m   1863\u001b[0m             )\n\u001b[1;32m   1864\u001b[0m         )\n",
      "File \u001b[0;32m~/projects/darts/darts/models/forecasting/forecasting_model.py:229\u001b[0m, in \u001b[0;36mForecastingModel.predict\u001b[0;34m(self, n, num_samples)\u001b[0m\n\u001b[1;32m    213\u001b[0m \u001b[38;5;250m\u001b[39m\u001b[38;5;124;03m\"\"\"Forecasts values for `n` time steps after the end of the training series.\u001b[39;00m\n\u001b[1;32m    214\u001b[0m \n\u001b[1;32m    215\u001b[0m \u001b[38;5;124;03mParameters\u001b[39;00m\n\u001b[0;32m   (...)\u001b[0m\n\u001b[1;32m    226\u001b[0m \u001b[38;5;124;03m    A time series containing the `n` next points after then end of the training series.\u001b[39;00m\n\u001b[1;32m    227\u001b[0m \u001b[38;5;124;03m\"\"\"\u001b[39;00m\n\u001b[1;32m    228\u001b[0m \u001b[38;5;28;01mif\u001b[39;00m \u001b[38;5;129;01mnot\u001b[39;00m \u001b[38;5;28mself\u001b[39m\u001b[38;5;241m.\u001b[39m_fit_called:\n\u001b[0;32m--> 229\u001b[0m     \u001b[43mraise_log\u001b[49m\u001b[43m(\u001b[49m\n\u001b[1;32m    230\u001b[0m \u001b[43m        \u001b[49m\u001b[38;5;167;43;01mValueError\u001b[39;49;00m\u001b[43m(\u001b[49m\n\u001b[1;32m    231\u001b[0m \u001b[43m            \u001b[49m\u001b[38;5;124;43m\"\u001b[39;49m\u001b[38;5;124;43mThe model must be fit before calling predict(). \u001b[39;49m\u001b[38;5;124;43m\"\u001b[39;49m\n\u001b[1;32m    232\u001b[0m \u001b[43m            \u001b[49m\u001b[38;5;124;43m\"\u001b[39;49m\u001b[38;5;124;43mFor global models, if predict() is called without specifying a series, \u001b[39;49m\u001b[38;5;124;43m\"\u001b[39;49m\n\u001b[1;32m    233\u001b[0m \u001b[43m            \u001b[49m\u001b[38;5;124;43m\"\u001b[39;49m\u001b[38;5;124;43mthe model must have been fit on a single training series.\u001b[39;49m\u001b[38;5;124;43m\"\u001b[39;49m\n\u001b[1;32m    234\u001b[0m \u001b[43m        \u001b[49m\u001b[43m)\u001b[49m\u001b[43m,\u001b[49m\n\u001b[1;32m    235\u001b[0m \u001b[43m        \u001b[49m\u001b[43mlogger\u001b[49m\u001b[43m,\u001b[49m\n\u001b[1;32m    236\u001b[0m \u001b[43m    \u001b[49m\u001b[43m)\u001b[49m\n\u001b[1;32m    238\u001b[0m \u001b[38;5;28;01mif\u001b[39;00m \u001b[38;5;129;01mnot\u001b[39;00m \u001b[38;5;28mself\u001b[39m\u001b[38;5;241m.\u001b[39m_is_probabilistic() \u001b[38;5;129;01mand\u001b[39;00m num_samples \u001b[38;5;241m>\u001b[39m \u001b[38;5;241m1\u001b[39m:\n\u001b[1;32m    239\u001b[0m     raise_log(\n\u001b[1;32m    240\u001b[0m         \u001b[38;5;167;01mValueError\u001b[39;00m(\n\u001b[1;32m    241\u001b[0m             \u001b[38;5;124m\"\u001b[39m\u001b[38;5;124m`num_samples > 1` is only supported for probabilistic models.\u001b[39m\u001b[38;5;124m\"\u001b[39m\n\u001b[1;32m    242\u001b[0m         ),\n\u001b[1;32m    243\u001b[0m         logger,\n\u001b[1;32m    244\u001b[0m     )\n",
      "File \u001b[0;32m~/projects/darts/darts/logging.py:129\u001b[0m, in \u001b[0;36mraise_log\u001b[0;34m(exception, logger)\u001b[0m\n\u001b[1;32m    126\u001b[0m message \u001b[38;5;241m=\u001b[39m \u001b[38;5;28mstr\u001b[39m(exception)\n\u001b[1;32m    127\u001b[0m logger\u001b[38;5;241m.\u001b[39merror(exception_type \u001b[38;5;241m+\u001b[39m \u001b[38;5;124m\"\u001b[39m\u001b[38;5;124m: \u001b[39m\u001b[38;5;124m\"\u001b[39m \u001b[38;5;241m+\u001b[39m message)\n\u001b[0;32m--> 129\u001b[0m \u001b[38;5;28;01mraise\u001b[39;00m exception\n",
      "\u001b[0;31mValueError\u001b[0m: The model must be fit before calling predict(). For global models, if predict() is called without specifying a series, the model must have been fit on a single training series."
     ]
    }
   ],
   "source": [
    "model.predict(10, series=train)"
   ]
  },
  {
   "cell_type": "code",
   "execution_count": null,
   "id": "71a3e84e-68c2-46df-8ae2-19d065a3c985",
   "metadata": {
    "tags": []
   },
   "outputs": [],
   "source": [
    "lr_finder.suggestion()"
   ]
  },
  {
   "cell_type": "code",
   "execution_count": null,
   "id": "f7c1c587-d2ef-4b7c-9b2f-4e9dd82e6b07",
   "metadata": {
    "tags": []
   },
   "outputs": [],
   "source": [
    "model = NBEATSModel(\n",
    "    input_chunk_length=7,\n",
    "    output_chunk_length=1,\n",
    "    random_state=42,\n",
    "    optimizer_cls=Adam,\n",
    "    optimizer_kwargs={\"lr\": lr_finder.suggestion()},\n",
    ")"
   ]
  },
  {
   "cell_type": "code",
   "execution_count": null,
   "id": "04026750-46ea-489e-a7d4-0ba5a4480f77",
   "metadata": {
    "tags": []
   },
   "outputs": [],
   "source": [
    "model.fit(train, val_series=val, verbose=True)"
   ]
  },
  {
   "cell_type": "code",
   "execution_count": null,
   "id": "e24832e8-d3f0-4a96-870b-b199c91421e6",
   "metadata": {},
   "outputs": [],
   "source": []
  }
 ],
 "metadata": {
  "kernelspec": {
   "display_name": "Python 3",
   "language": "python",
   "name": "python3"
  },
  "language_info": {
   "codemirror_mode": {
    "name": "ipython",
    "version": 3
   },
   "file_extension": ".py",
   "mimetype": "text/x-python",
   "name": "python",
   "nbconvert_exporter": "python",
   "pygments_lexer": "ipython3",
   "version": "3.9.16"
  }
 },
 "nbformat": 4,
 "nbformat_minor": 5
}
